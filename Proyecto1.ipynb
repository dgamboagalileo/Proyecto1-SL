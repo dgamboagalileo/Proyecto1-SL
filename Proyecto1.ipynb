{
 "cells": [
  {
   "cell_type": "code",
   "execution_count": 140,
   "id": "bd1acafd-c615-4357-9bf0-05fb4957e186",
   "metadata": {},
   "outputs": [],
   "source": [
    "import pandas as pd\n",
    "import numpy as np\n",
    "import matplotlib.pyplot as plt\n",
    "import statistics as stdev\n",
    "import seaborn as sns\n",
    "from sklearn.linear_model import LinearRegression\n",
    "from sklearn import linear_model"
   ]
  },
  {
   "cell_type": "markdown",
   "id": "e0a0f1af-8f77-40c2-a083-f855f4c66fd2",
   "metadata": {},
   "source": [
    "## 1. Entorno"
   ]
  },
  {
   "cell_type": "code",
   "execution_count": 141,
   "id": "04b47a36-2373-4d1a-81c2-dbc3294eed0e",
   "metadata": {},
   "outputs": [],
   "source": [
    "data=np.load(\"proyecto_training_data.npy\")"
   ]
  },
  {
   "cell_type": "code",
   "execution_count": 142,
   "id": "28ced3ee-edd3-4e71-ba1d-5e6e64c50aa1",
   "metadata": {},
   "outputs": [
    {
     "data": {
      "text/html": [
       "<div>\n",
       "<style scoped>\n",
       "    .dataframe tbody tr th:only-of-type {\n",
       "        vertical-align: middle;\n",
       "    }\n",
       "\n",
       "    .dataframe tbody tr th {\n",
       "        vertical-align: top;\n",
       "    }\n",
       "\n",
       "    .dataframe thead th {\n",
       "        text-align: right;\n",
       "    }\n",
       "</style>\n",
       "<table border=\"1\" class=\"dataframe\">\n",
       "  <thead>\n",
       "    <tr style=\"text-align: right;\">\n",
       "      <th></th>\n",
       "      <th>SalePrice</th>\n",
       "      <th>OverallQual</th>\n",
       "      <th>1stFlrSF</th>\n",
       "      <th>TotRmsAbvGrd</th>\n",
       "      <th>YearBuilt</th>\n",
       "      <th>LotFrontage</th>\n",
       "    </tr>\n",
       "  </thead>\n",
       "  <tbody>\n",
       "    <tr>\n",
       "      <th>0</th>\n",
       "      <td>208500.0</td>\n",
       "      <td>7.0</td>\n",
       "      <td>856.0</td>\n",
       "      <td>8.0</td>\n",
       "      <td>2003.0</td>\n",
       "      <td>65.0</td>\n",
       "    </tr>\n",
       "    <tr>\n",
       "      <th>1</th>\n",
       "      <td>181500.0</td>\n",
       "      <td>6.0</td>\n",
       "      <td>1262.0</td>\n",
       "      <td>6.0</td>\n",
       "      <td>1976.0</td>\n",
       "      <td>80.0</td>\n",
       "    </tr>\n",
       "    <tr>\n",
       "      <th>2</th>\n",
       "      <td>223500.0</td>\n",
       "      <td>7.0</td>\n",
       "      <td>920.0</td>\n",
       "      <td>6.0</td>\n",
       "      <td>2001.0</td>\n",
       "      <td>68.0</td>\n",
       "    </tr>\n",
       "    <tr>\n",
       "      <th>3</th>\n",
       "      <td>140000.0</td>\n",
       "      <td>7.0</td>\n",
       "      <td>961.0</td>\n",
       "      <td>7.0</td>\n",
       "      <td>1915.0</td>\n",
       "      <td>60.0</td>\n",
       "    </tr>\n",
       "    <tr>\n",
       "      <th>4</th>\n",
       "      <td>250000.0</td>\n",
       "      <td>8.0</td>\n",
       "      <td>1145.0</td>\n",
       "      <td>9.0</td>\n",
       "      <td>2000.0</td>\n",
       "      <td>84.0</td>\n",
       "    </tr>\n",
       "  </tbody>\n",
       "</table>\n",
       "</div>"
      ],
      "text/plain": [
       "   SalePrice  OverallQual  1stFlrSF  TotRmsAbvGrd  YearBuilt  LotFrontage\n",
       "0   208500.0          7.0     856.0           8.0     2003.0         65.0\n",
       "1   181500.0          6.0    1262.0           6.0     1976.0         80.0\n",
       "2   223500.0          7.0     920.0           6.0     2001.0         68.0\n",
       "3   140000.0          7.0     961.0           7.0     1915.0         60.0\n",
       "4   250000.0          8.0    1145.0           9.0     2000.0         84.0"
      ]
     },
     "execution_count": 142,
     "metadata": {},
     "output_type": "execute_result"
    }
   ],
   "source": [
    "dataset=pd.DataFrame(data,columns=['SalePrice', 'OverallQual', '1stFlrSF', 'TotRmsAbvGrd','YearBuilt', 'LotFrontage'])\n",
    "dataset.head()"
   ]
  },
  {
   "cell_type": "markdown",
   "id": "8f5ddf7b-15cf-41e9-ba10-13cd19706042",
   "metadata": {},
   "source": [
    "## 2. Slicing 80% training; 20% testing"
   ]
  },
  {
   "cell_type": "markdown",
   "id": "0ec63947-d6fb-45c3-8e05-7dcec35ce673",
   "metadata": {},
   "source": [
    "### Training"
   ]
  },
  {
   "cell_type": "code",
   "execution_count": 143,
   "id": "d2745446-018e-4d55-9972-357ad1d9727e",
   "metadata": {},
   "outputs": [
    {
     "data": {
      "text/html": [
       "<div>\n",
       "<style scoped>\n",
       "    .dataframe tbody tr th:only-of-type {\n",
       "        vertical-align: middle;\n",
       "    }\n",
       "\n",
       "    .dataframe tbody tr th {\n",
       "        vertical-align: top;\n",
       "    }\n",
       "\n",
       "    .dataframe thead th {\n",
       "        text-align: right;\n",
       "    }\n",
       "</style>\n",
       "<table border=\"1\" class=\"dataframe\">\n",
       "  <thead>\n",
       "    <tr style=\"text-align: right;\">\n",
       "      <th></th>\n",
       "      <th>SalePrice</th>\n",
       "      <th>OverallQual</th>\n",
       "      <th>1stFlrSF</th>\n",
       "      <th>TotRmsAbvGrd</th>\n",
       "      <th>YearBuilt</th>\n",
       "      <th>LotFrontage</th>\n",
       "    </tr>\n",
       "  </thead>\n",
       "  <tbody>\n",
       "    <tr>\n",
       "      <th>268</th>\n",
       "      <td>120500.0</td>\n",
       "      <td>5.0</td>\n",
       "      <td>778.0</td>\n",
       "      <td>4.0</td>\n",
       "      <td>1940.0</td>\n",
       "      <td>71.0</td>\n",
       "    </tr>\n",
       "    <tr>\n",
       "      <th>1372</th>\n",
       "      <td>274300.0</td>\n",
       "      <td>7.0</td>\n",
       "      <td>1108.0</td>\n",
       "      <td>8.0</td>\n",
       "      <td>1998.0</td>\n",
       "      <td>75.0</td>\n",
       "    </tr>\n",
       "    <tr>\n",
       "      <th>1174</th>\n",
       "      <td>239000.0</td>\n",
       "      <td>6.0</td>\n",
       "      <td>1170.0</td>\n",
       "      <td>9.0</td>\n",
       "      <td>1932.0</td>\n",
       "      <td>80.0</td>\n",
       "    </tr>\n",
       "    <tr>\n",
       "      <th>331</th>\n",
       "      <td>139000.0</td>\n",
       "      <td>5.0</td>\n",
       "      <td>1056.0</td>\n",
       "      <td>6.0</td>\n",
       "      <td>1958.0</td>\n",
       "      <td>70.0</td>\n",
       "    </tr>\n",
       "    <tr>\n",
       "      <th>949</th>\n",
       "      <td>197500.0</td>\n",
       "      <td>6.0</td>\n",
       "      <td>1381.0</td>\n",
       "      <td>5.0</td>\n",
       "      <td>1972.0</td>\n",
       "      <td>78.0</td>\n",
       "    </tr>\n",
       "  </tbody>\n",
       "</table>\n",
       "</div>"
      ],
      "text/plain": [
       "      SalePrice  OverallQual  1stFlrSF  TotRmsAbvGrd  YearBuilt  LotFrontage\n",
       "268    120500.0          5.0     778.0           4.0     1940.0         71.0\n",
       "1372   274300.0          7.0    1108.0           8.0     1998.0         75.0\n",
       "1174   239000.0          6.0    1170.0           9.0     1932.0         80.0\n",
       "331    139000.0          5.0    1056.0           6.0     1958.0         70.0\n",
       "949    197500.0          6.0    1381.0           5.0     1972.0         78.0"
      ]
     },
     "execution_count": 143,
     "metadata": {},
     "output_type": "execute_result"
    }
   ],
   "source": [
    "datasetTraining=dataset.sample(n=1168)\n",
    "datasetTraining.head()"
   ]
  },
  {
   "cell_type": "markdown",
   "id": "60e92d26-d697-4265-b70c-e9d5889e0f92",
   "metadata": {},
   "source": [
    "### Testing"
   ]
  },
  {
   "cell_type": "code",
   "execution_count": 144,
   "id": "ce0b3f97-ced7-4eed-b47c-62096ba96616",
   "metadata": {},
   "outputs": [
    {
     "data": {
      "text/html": [
       "<div>\n",
       "<style scoped>\n",
       "    .dataframe tbody tr th:only-of-type {\n",
       "        vertical-align: middle;\n",
       "    }\n",
       "\n",
       "    .dataframe tbody tr th {\n",
       "        vertical-align: top;\n",
       "    }\n",
       "\n",
       "    .dataframe thead th {\n",
       "        text-align: right;\n",
       "    }\n",
       "</style>\n",
       "<table border=\"1\" class=\"dataframe\">\n",
       "  <thead>\n",
       "    <tr style=\"text-align: right;\">\n",
       "      <th></th>\n",
       "      <th>SalePrice</th>\n",
       "      <th>OverallQual</th>\n",
       "      <th>1stFlrSF</th>\n",
       "      <th>TotRmsAbvGrd</th>\n",
       "      <th>YearBuilt</th>\n",
       "      <th>LotFrontage</th>\n",
       "    </tr>\n",
       "  </thead>\n",
       "  <tbody>\n",
       "    <tr>\n",
       "      <th>4</th>\n",
       "      <td>250000.0</td>\n",
       "      <td>8.0</td>\n",
       "      <td>1145.0</td>\n",
       "      <td>9.0</td>\n",
       "      <td>2000.0</td>\n",
       "      <td>84.0</td>\n",
       "    </tr>\n",
       "    <tr>\n",
       "      <th>8</th>\n",
       "      <td>129900.0</td>\n",
       "      <td>7.0</td>\n",
       "      <td>1022.0</td>\n",
       "      <td>8.0</td>\n",
       "      <td>1931.0</td>\n",
       "      <td>51.0</td>\n",
       "    </tr>\n",
       "    <tr>\n",
       "      <th>12</th>\n",
       "      <td>144000.0</td>\n",
       "      <td>5.0</td>\n",
       "      <td>912.0</td>\n",
       "      <td>4.0</td>\n",
       "      <td>1962.0</td>\n",
       "      <td>NaN</td>\n",
       "    </tr>\n",
       "    <tr>\n",
       "      <th>16</th>\n",
       "      <td>149000.0</td>\n",
       "      <td>6.0</td>\n",
       "      <td>1004.0</td>\n",
       "      <td>5.0</td>\n",
       "      <td>1970.0</td>\n",
       "      <td>NaN</td>\n",
       "    </tr>\n",
       "    <tr>\n",
       "      <th>23</th>\n",
       "      <td>129900.0</td>\n",
       "      <td>5.0</td>\n",
       "      <td>1060.0</td>\n",
       "      <td>6.0</td>\n",
       "      <td>1976.0</td>\n",
       "      <td>44.0</td>\n",
       "    </tr>\n",
       "  </tbody>\n",
       "</table>\n",
       "</div>"
      ],
      "text/plain": [
       "    SalePrice  OverallQual  1stFlrSF  TotRmsAbvGrd  YearBuilt  LotFrontage\n",
       "4    250000.0          8.0    1145.0           9.0     2000.0         84.0\n",
       "8    129900.0          7.0    1022.0           8.0     1931.0         51.0\n",
       "12   144000.0          5.0     912.0           4.0     1962.0          NaN\n",
       "16   149000.0          6.0    1004.0           5.0     1970.0          NaN\n",
       "23   129900.0          5.0    1060.0           6.0     1976.0         44.0"
      ]
     },
     "execution_count": 144,
     "metadata": {},
     "output_type": "execute_result"
    }
   ],
   "source": [
    "dft=dataset.merge(datasetTraining.drop_duplicates(), on=['SalePrice', 'OverallQual','1stFlrSF','TotRmsAbvGrd','YearBuilt','LotFrontage'], how='left', indicator=True)\n",
    "dft=dft[dft._merge=='left_only']\n",
    "datasetTesting=dft.drop(['_merge'], axis=1)\n",
    "datasetTesting.head()"
   ]
  },
  {
   "cell_type": "markdown",
   "id": "a984e583-41f9-43a2-9e45-50c1a2383b06",
   "metadata": {},
   "source": [
    "## 3. Analisis exploratorio"
   ]
  },
  {
   "cell_type": "code",
   "execution_count": 145,
   "id": "eada418e-21c2-4a69-a8e7-45e7915471f9",
   "metadata": {},
   "outputs": [],
   "source": [
    "def exploratoryAnalysis(df):\n",
    "    for col in df.columns:\n",
    "        media=df[col].mean()\n",
    "        maxValue=df[col].max()\n",
    "        minValue=df[col].min()\n",
    "        rango=maxValue-minValue\n",
    "        std=stdev.stdev(df[col])\n",
    "        print(col + ' - Media: ' + str(media) + ' - Valor maximo: ' + str(maxValue) + ' - Valor minimo: ' + str(minValue) + ' - Rango: ' + str(rango) + '- Desviación estandard: ' + str(std))"
   ]
  },
  {
   "cell_type": "code",
   "execution_count": 146,
   "id": "0bfffb9f-1468-4186-a0c8-662b4d95f1df",
   "metadata": {},
   "outputs": [
    {
     "name": "stdout",
     "output_type": "stream",
     "text": [
      "SalePrice - Media: 181164.96061643836 - Valor maximo: 755000.0 - Valor minimo: 34900.0 - Rango: 720100.0- Desviación estandard: 80064.3737740589\n",
      "OverallQual - Media: 6.11986301369863 - Valor maximo: 10.0 - Valor minimo: 1.0 - Rango: 9.0- Desviación estandard: 1.3796225338745585\n",
      "1stFlrSF - Media: 1167.1729452054794 - Valor maximo: 4692.0 - Valor minimo: 334.0 - Rango: 4358.0- Desviación estandard: 382.5647416408883\n",
      "TotRmsAbvGrd - Media: 6.5479452054794525 - Valor maximo: 12.0 - Valor minimo: 2.0 - Rango: 10.0- Desviación estandard: 1.6275570004229236\n",
      "YearBuilt - Media: 1971.1190068493152 - Valor maximo: 2009.0 - Valor minimo: 1872.0 - Rango: 137.0- Desviación estandard: 30.42608668040893\n",
      "LotFrontage - Media: 70.37282941777323 - Valor maximo: 313.0 - Valor minimo: 21.0 - Rango: 292.0- Desviación estandard: nan\n"
     ]
    }
   ],
   "source": [
    "exploratoryAnalysis(datasetTraining)"
   ]
  },
  {
   "cell_type": "markdown",
   "id": "9f82e3f0-eb71-44dd-8704-22bba33d1cf6",
   "metadata": {},
   "source": [
    "## 4. Histograma"
   ]
  },
  {
   "cell_type": "code",
   "execution_count": 147,
   "id": "a323abc3-ea48-438c-9449-953622ec86f1",
   "metadata": {},
   "outputs": [
    {
     "data": {
      "text/plain": [
       "<AxesSubplot:xlabel='SalePrice', ylabel='Count'>"
      ]
     },
     "execution_count": 147,
     "metadata": {},
     "output_type": "execute_result"
    },
    {
     "data": {
      "image/png": "[encoded data removed]",
      "text/plain": [
       "<Figure size 432x288 with 1 Axes>"
      ]
     },
     "metadata": {
      "needs_background": "light"
     },
     "output_type": "display_data"
    }
   ],
   "source": [
    "sns.histplot(data=datasetTraining, x='SalePrice')"
   ]
  },
  {
   "cell_type": "code",
   "execution_count": 148,
   "id": "44c39387-10cd-4743-85b2-061eb4b7af7a",
   "metadata": {},
   "outputs": [
    {
     "data": {
      "text/plain": [
       "<AxesSubplot:xlabel='OverallQual', ylabel='Count'>"
      ]
     },
     "execution_count": 148,
     "metadata": {},
     "output_type": "execute_result"
    },
    {
     "data": {
      "image/png": "[encoded data removed]",
      "text/plain": [
       "<Figure size 432x288 with 1 Axes>"
      ]
     },
     "metadata": {
      "needs_background": "light"
     },
     "output_type": "display_data"
    }
   ],
   "source": [
    "sns.histplot(data=datasetTraining, x='OverallQual')"
   ]
  },
  {
   "cell_type": "code",
   "execution_count": 149,
   "id": "d965e0b3-7b51-4773-9b32-eb9a2a3ecaac",
   "metadata": {},
   "outputs": [
    {
     "data": {
      "text/plain": [
       "<AxesSubplot:xlabel='1stFlrSF', ylabel='Count'>"
      ]
     },
     "execution_count": 149,
     "metadata": {},
     "output_type": "execute_result"
    },
    {
     "data": {
      "image/png": "[encoded data removed]",
      "text/plain": [
       "<Figure size 432x288 with 1 Axes>"
      ]
     },
     "metadata": {
      "needs_background": "light"
     },
     "output_type": "display_data"
    }
   ],
   "source": [
    "sns.histplot(data=datasetTraining, x='1stFlrSF')"
   ]
  },
  {
   "cell_type": "code",
   "execution_count": 150,
   "id": "722a4d2b-4d7f-4dde-8c45-2e483e98c6f2",
   "metadata": {},
   "outputs": [
    {
     "data": {
      "text/plain": [
       "<AxesSubplot:xlabel='TotRmsAbvGrd', ylabel='Count'>"
      ]
     },
     "execution_count": 150,
     "metadata": {},
     "output_type": "execute_result"
    },
    {
     "data": {
      "image/png": "[encoded data removed]",
      "text/plain": [
       "<Figure size 432x288 with 1 Axes>"
      ]
     },
     "metadata": {
      "needs_background": "light"
     },
     "output_type": "display_data"
    }
   ],
   "source": [
    "sns.histplot(data=datasetTraining, x='TotRmsAbvGrd')"
   ]
  },
  {
   "cell_type": "code",
   "execution_count": 151,
   "id": "3902f2b8-ad23-4988-86b6-3e6e157de70d",
   "metadata": {},
   "outputs": [
    {
     "data": {
      "text/plain": [
       "<AxesSubplot:xlabel='YearBuilt', ylabel='Count'>"
      ]
     },
     "execution_count": 151,
     "metadata": {},
     "output_type": "execute_result"
    },
    {
     "data": {
      "image/png": "[encoded data removed]",
      "text/plain": [
       "<Figure size 432x288 with 1 Axes>"
      ]
     },
     "metadata": {
      "needs_background": "light"
     },
     "output_type": "display_data"
    }
   ],
   "source": [
    "sns.histplot(data=datasetTraining, x='YearBuilt')"
   ]
  },
  {
   "cell_type": "code",
   "execution_count": 152,
   "id": "4cb57724-0c75-495d-8a37-9057afaf66c5",
   "metadata": {},
   "outputs": [
    {
     "data": {
      "text/plain": [
       "<AxesSubplot:xlabel='LotFrontage', ylabel='Count'>"
      ]
     },
     "execution_count": 152,
     "metadata": {},
     "output_type": "execute_result"
    },
    {
     "data": {
      "image/png": "[encoded data removed]",
      "text/plain": [
       "<Figure size 432x288 with 1 Axes>"
      ]
     },
     "metadata": {
      "needs_background": "light"
     },
     "output_type": "display_data"
    }
   ],
   "source": [
    "sns.histplot(data=datasetTraining, x='LotFrontage')"
   ]
  },
  {
   "cell_type": "markdown",
   "id": "ea62bb51-90db-4670-bfde-3f2802908058",
   "metadata": {},
   "source": [
    "## 5. Para cada variable independiente x"
   ]
  },
  {
   "cell_type": "markdown",
   "id": "aa598219-9972-4c34-a75f-572e0fb0173e",
   "metadata": {},
   "source": [
    "### Coeficiente de correlación"
   ]
  },
  {
   "cell_type": "code",
   "execution_count": 153,
   "id": "0754db7e-7289-42e1-8ea9-1de44a8d6ba3",
   "metadata": {},
   "outputs": [],
   "source": [
    "def calcCorrCoef(df, target):\n",
    "    for col in df.columns:\n",
    "        print('Correlación - ' + col + ':', df[target].corr(df[col], method='pearson'))"
   ]
  },
  {
   "cell_type": "code",
   "execution_count": 154,
   "id": "2579f0af-86f5-4caa-855c-51a4ddc18fb8",
   "metadata": {},
   "outputs": [
    {
     "name": "stdout",
     "output_type": "stream",
     "text": [
      "Correlación - SalePrice: 1.0\n",
      "Correlación - OverallQual: 0.7844120820739611\n",
      "Correlación - 1stFlrSF: 0.5828843444979408\n",
      "Correlación - TotRmsAbvGrd: 0.5327780134541965\n",
      "Correlación - YearBuilt: 0.5086838456903178\n",
      "Correlación - LotFrontage: 0.3209856557339117\n"
     ]
    }
   ],
   "source": [
    "calcCorrCoef(datasetTraining, 'SalePrice')"
   ]
  },
  {
   "cell_type": "markdown",
   "id": "884a5624-3eec-45f6-8ffc-5d3c4f73ba7d",
   "metadata": {},
   "source": [
    "### Graficar x vs y (scatterplot)"
   ]
  },
  {
   "cell_type": "code",
   "execution_count": 155,
   "id": "25a04ed5-12c2-41ec-a4cc-c0a5f8fb14da",
   "metadata": {},
   "outputs": [],
   "source": [
    "def scatterplot(df, target):\n",
    "    for col in df.columns:\n",
    "        cofcor=df[target].corr(df[col], method='pearson')\n",
    "        sns.scatterplot(data=df, x=df[col], y=df[target]).set(title=cofcor)\n",
    "        plt.show()"
   ]
  },
  {
   "cell_type": "code",
   "execution_count": 156,
   "id": "253b3e1a-470e-46b1-b6cc-4e02e0e4dbcc",
   "metadata": {},
   "outputs": [
    {
     "data": {
      "image/png": "[encoded data removed]",
      "text/plain": [
       "<Figure size 432x288 with 1 Axes>"
      ]
     },
     "metadata": {
      "needs_background": "light"
     },
     "output_type": "display_data"
    },
    {
     "data": {
      "image/png": "[encoded data removed]",
      "text/plain": [
       "<Figure size 432x288 with 1 Axes>"
      ]
     },
     "metadata": {
      "needs_background": "light"
     },
     "output_type": "display_data"
    },
    {
     "data": {
      "image/png": "[encoded data removed]",
      "text/plain": [
       "<Figure size 432x288 with 1 Axes>"
      ]
     },
     "metadata": {
      "needs_background": "light"
     },
     "output_type": "display_data"
    },
    {
     "data": {
      "image/png": "[encoded data removed]",
      "text/plain": [
       "<Figure size 432x288 with 1 Axes>"
      ]
     },
     "metadata": {
      "needs_background": "light"
     },
     "output_type": "display_data"
    },
    {
     "data": {
      "image/png": "[encoded data removed]",
      "text/plain": [
       "<Figure size 432x288 with 1 Axes>"
      ]
     },
     "metadata": {
      "needs_background": "light"
     },
     "output_type": "display_data"
    },
    {
     "data": {
      "image/png": "[encoded data removed]",
      "text/plain": [
       "<Figure size 432x288 with 1 Axes>"
      ]
     },
     "metadata": {
      "needs_background": "light"
     },
     "output_type": "display_data"
    }
   ],
   "source": [
    "scatterplot(datasetTraining, 'SalePrice')"
   ]
  },
  {
   "cell_type": "markdown",
   "id": "d2e30f0d-d92d-4136-83fc-bfdf7c51297e",
   "metadata": {},
   "source": [
    "#### Las dos variables que presentan mayor correlación son: OverallQual y 1stFlrSF"
   ]
  },
  {
   "cell_type": "markdown",
   "id": "51cc2b5a-a15b-48ba-ac84-ba6fc1cff3ef",
   "metadata": {},
   "source": [
    "## 6. Función para entrenar un modelo de regresión lineal"
   ]
  },
  {
   "cell_type": "code",
   "execution_count": 157,
   "id": "59952564-4488-4b1a-8111-33da6b93434a",
   "metadata": {},
   "outputs": [],
   "source": [
    "x=datasetTraining['1stFlrSF']\n",
    "y=datasetTraining['SalePrice']\n",
    "epochs=200\n",
    "imprimir_error_cada=1\n",
    "learning_rate=0.00000001\n"
   ]
  },
  {
   "cell_type": "markdown",
   "id": "48ad297e-d07d-4e1e-a769-3a6b03ed6690",
   "metadata": {},
   "source": [
    "## 7. Creando la función"
   ]
  },
  {
   "cell_type": "code",
   "execution_count": 158,
   "id": "9c40aa3d-a99e-400b-883a-d9890fe66ec3",
   "metadata": {},
   "outputs": [
    {
     "name": "stdout",
     "output_type": "stream",
     "text": [
      "Beta0:  0.13838791972374406\n",
      "Beta1:  133.46585214064507\n"
     ]
    }
   ],
   "source": [
    "unos=np.ones(np.shape(x)).reshape(-1,1)\n",
    "x=x.to_numpy().reshape(-1,1)\n",
    "a=np.hstack([x,unos])\n",
    "b0=0\n",
    "b1=0\n",
    "errores=[]\n",
    "iteracionErrores=[]\n",
    "diccionario={}\n",
    "for i in range(epochs):\n",
    "    betas=np.array([b1,b0]).reshape(-1,1)\n",
    "    yEstimado=np.matmul(a,betas)\n",
    "    gradienteB0=np.mean(yEstimado-y.to_numpy())\n",
    "    gradienteB1=np.mean((yEstimado-y.to_numpy())*x)\n",
    "    \n",
    "    ##ACTUALIZACIÓN PARAMETROS DEL MODELO\n",
    "    b0=b0-learning_rate*gradienteB0\n",
    "    b1=b1-learning_rate*gradienteB1\n",
    "    \n",
    "    ##CALCULO DEL GRADIENTE DEL ERROR\n",
    "    if((i%imprimir_error_cada)==0):\n",
    "        errores.append(np.mean((yEstimado-y.to_numpy())**2)*1/2)\n",
    "        iteracionErrores.append(i)\n",
    "    ##ALMACENAR EN UNA ESTRUCTURA DE DATOS EL MODELO RESULTANTE\n",
    "    diccionario[i]=[b0, b1]\n",
    "print(\"Beta0: \", b0)\n",
    "print(\"Beta1: \", b1)"
   ]
  },
  {
   "cell_type": "code",
   "execution_count": 159,
   "id": "29080b1f-09b8-4601-8342-eeded4db094d",
   "metadata": {},
   "outputs": [],
   "source": [
    "#errores, iteracionErrores"
   ]
  },
  {
   "cell_type": "code",
   "execution_count": 160,
   "id": "04652f70-9654-4395-b558-938b41f3da0e",
   "metadata": {},
   "outputs": [],
   "source": [
    "#diccionario"
   ]
  },
  {
   "cell_type": "markdown",
   "id": "b77bd673-937b-4d4a-bf30-dcccb8378dce",
   "metadata": {},
   "source": [
    "### Función para visualizar como cambia el error en el tiempo"
   ]
  },
  {
   "cell_type": "code",
   "execution_count": 161,
   "id": "01485b24-313f-4733-9a83-6088aa1aecf2",
   "metadata": {},
   "outputs": [
    {
     "data": {
      "text/html": [
       "<div>\n",
       "<style scoped>\n",
       "    .dataframe tbody tr th:only-of-type {\n",
       "        vertical-align: middle;\n",
       "    }\n",
       "\n",
       "    .dataframe tbody tr th {\n",
       "        vertical-align: top;\n",
       "    }\n",
       "\n",
       "    .dataframe thead th {\n",
       "        text-align: right;\n",
       "    }\n",
       "</style>\n",
       "<table border=\"1\" class=\"dataframe\">\n",
       "  <thead>\n",
       "    <tr style=\"text-align: right;\">\n",
       "      <th></th>\n",
       "      <th>Error</th>\n",
       "      <th>Iteracion</th>\n",
       "    </tr>\n",
       "  </thead>\n",
       "  <tbody>\n",
       "    <tr>\n",
       "      <th>0</th>\n",
       "      <td>1.961278e+10</td>\n",
       "      <td>0.0</td>\n",
       "    </tr>\n",
       "    <tr>\n",
       "      <th>1</th>\n",
       "      <td>1.916904e+10</td>\n",
       "      <td>1.0</td>\n",
       "    </tr>\n",
       "    <tr>\n",
       "      <th>2</th>\n",
       "      <td>1.873858e+10</td>\n",
       "      <td>2.0</td>\n",
       "    </tr>\n",
       "    <tr>\n",
       "      <th>3</th>\n",
       "      <td>1.832101e+10</td>\n",
       "      <td>3.0</td>\n",
       "    </tr>\n",
       "    <tr>\n",
       "      <th>4</th>\n",
       "      <td>1.791595e+10</td>\n",
       "      <td>4.0</td>\n",
       "    </tr>\n",
       "  </tbody>\n",
       "</table>\n",
       "</div>"
      ],
      "text/plain": [
       "          Error  Iteracion\n",
       "0  1.961278e+10        0.0\n",
       "1  1.916904e+10        1.0\n",
       "2  1.873858e+10        2.0\n",
       "3  1.832101e+10        3.0\n",
       "4  1.791595e+10        4.0"
      ]
     },
     "execution_count": 161,
     "metadata": {},
     "output_type": "execute_result"
    }
   ],
   "source": [
    "datasetErrores=pd.DataFrame(data=np.array([errores, iteracionErrores]))\n",
    "datasetErrores=datasetErrores.T\n",
    "datasetErrores.columns =['Error', 'Iteracion']\n",
    "datasetErrores.head()"
   ]
  },
  {
   "cell_type": "code",
   "execution_count": 43,
   "id": "3291e97a-2147-41c2-b113-58cd97303967",
   "metadata": {},
   "outputs": [],
   "source": [
    "def errorsGraph(datasetErrores):\n",
    "    sns.scatterplot(data=datasetErrores, x=datasetErrores['Iteracion'], y=datasetErrores['Error'])\n",
    "    plt.show()"
   ]
  },
  {
   "cell_type": "code",
   "execution_count": 44,
   "id": "9f291a1f-ad57-4083-bbad-860676ca9f90",
   "metadata": {},
   "outputs": [
    {
     "data": {
      "image/png": "[encoded data removed]",
      "text/plain": [
       "<Figure size 432x288 with 1 Axes>"
      ]
     },
     "metadata": {
      "needs_background": "light"
     },
     "output_type": "display_data"
    }
   ],
   "source": [
    "errorsGraph(datasetErrores)"
   ]
  },
  {
   "cell_type": "markdown",
   "id": "aa345ffa-510d-4b98-ab8b-797c8120237d",
   "metadata": {},
   "source": [
    "### Evolución del modelo entrenado con el tiempo"
   ]
  },
  {
   "cell_type": "code",
   "execution_count": 162,
   "id": "11143b56-4b60-41ee-b72c-56ef228bc982",
   "metadata": {},
   "outputs": [
    {
     "data": {
      "text/html": [
       "<div>\n",
       "<style scoped>\n",
       "    .dataframe tbody tr th:only-of-type {\n",
       "        vertical-align: middle;\n",
       "    }\n",
       "\n",
       "    .dataframe tbody tr th {\n",
       "        vertical-align: top;\n",
       "    }\n",
       "\n",
       "    .dataframe thead th {\n",
       "        text-align: right;\n",
       "    }\n",
       "</style>\n",
       "<table border=\"1\" class=\"dataframe\">\n",
       "  <thead>\n",
       "    <tr style=\"text-align: right;\">\n",
       "      <th></th>\n",
       "      <th>b0</th>\n",
       "      <th>b1</th>\n",
       "    </tr>\n",
       "  </thead>\n",
       "  <tbody>\n",
       "    <tr>\n",
       "      <th>0</th>\n",
       "      <td>0.001812</td>\n",
       "      <td>2.114508</td>\n",
       "    </tr>\n",
       "    <tr>\n",
       "      <th>1</th>\n",
       "      <td>0.003599</td>\n",
       "      <td>4.197119</td>\n",
       "    </tr>\n",
       "    <tr>\n",
       "      <th>2</th>\n",
       "      <td>0.005361</td>\n",
       "      <td>6.248313</td>\n",
       "    </tr>\n",
       "    <tr>\n",
       "      <th>3</th>\n",
       "      <td>0.007100</td>\n",
       "      <td>8.268564</td>\n",
       "    </tr>\n",
       "    <tr>\n",
       "      <th>4</th>\n",
       "      <td>0.008815</td>\n",
       "      <td>10.258339</td>\n",
       "    </tr>\n",
       "    <tr>\n",
       "      <th>...</th>\n",
       "      <td>...</td>\n",
       "      <td>...</td>\n",
       "    </tr>\n",
       "    <tr>\n",
       "      <th>195</th>\n",
       "      <td>0.137360</td>\n",
       "      <td>133.045548</td>\n",
       "    </tr>\n",
       "    <tr>\n",
       "      <th>196</th>\n",
       "      <td>0.137619</td>\n",
       "      <td>133.153031</td>\n",
       "    </tr>\n",
       "    <tr>\n",
       "      <th>197</th>\n",
       "      <td>0.137877</td>\n",
       "      <td>133.258894</td>\n",
       "    </tr>\n",
       "    <tr>\n",
       "      <th>198</th>\n",
       "      <td>0.138133</td>\n",
       "      <td>133.363159</td>\n",
       "    </tr>\n",
       "    <tr>\n",
       "      <th>199</th>\n",
       "      <td>0.138388</td>\n",
       "      <td>133.465852</td>\n",
       "    </tr>\n",
       "  </tbody>\n",
       "</table>\n",
       "<p>200 rows × 2 columns</p>\n",
       "</div>"
      ],
      "text/plain": [
       "           b0          b1\n",
       "0    0.001812    2.114508\n",
       "1    0.003599    4.197119\n",
       "2    0.005361    6.248313\n",
       "3    0.007100    8.268564\n",
       "4    0.008815   10.258339\n",
       "..        ...         ...\n",
       "195  0.137360  133.045548\n",
       "196  0.137619  133.153031\n",
       "197  0.137877  133.258894\n",
       "198  0.138133  133.363159\n",
       "199  0.138388  133.465852\n",
       "\n",
       "[200 rows x 2 columns]"
      ]
     },
     "execution_count": 162,
     "metadata": {},
     "output_type": "execute_result"
    }
   ],
   "source": [
    "datasetModel=pd.DataFrame(data=diccionario)\n",
    "datasetModel=datasetModel.T\n",
    "datasetModel.columns =['b0', 'b1']\n",
    "datasetModel"
   ]
  },
  {
   "cell_type": "code",
   "execution_count": 163,
   "id": "a4c5ccbe-92b4-4637-905c-56fa72c087ee",
   "metadata": {},
   "outputs": [],
   "source": [
    "def modelEvolution(dataEstructure, n):\n",
    "    for j in diccionario:\n",
    "        if((j%n)==0):\n",
    "            yPred=datasetTraining['1stFlrSF']*diccionario[j][1] + diccionario[j][0]\n",
    "            sns.scatterplot(data=datasetTraining, x=datasetTraining['1stFlrSF'], y=datasetTraining['SalePrice'])\n",
    "            plt.plot(datasetTraining['1stFlrSF'], yPred, color = 'green')\n",
    "            plt.xlabel('X')\n",
    "            plt.ylabel('y')\n",
    "            plt.show()"
   ]
  },
  {
   "cell_type": "code",
   "execution_count": 164,
   "id": "ff809677-aad3-4be0-848b-b67e0c4e0e4d",
   "metadata": {},
   "outputs": [
    {
     "data": {
      "image/png": "[encoded data removed]",
      "text/plain": [
       "<Figure size 432x288 with 1 Axes>"
      ]
     },
     "metadata": {
      "needs_background": "light"
     },
     "output_type": "display_data"
    },
    {
     "data": {
      "image/png": "[encoded data removed]",
      "text/plain": [
       "<Figure size 432x288 with 1 Axes>"
      ]
     },
     "metadata": {
      "needs_background": "light"
     },
     "output_type": "display_data"
    },
    {
     "data": {
      "image/png": "[encoded data removed]",
      "text/plain": [
       "<Figure size 432x288 with 1 Axes>"
      ]
     },
     "metadata": {
      "needs_background": "light"
     },
     "output_type": "display_data"
    },
    {
     "data": {
      "image/png": "[encoded data removed]",
      "text/plain": [
       "<Figure size 432x288 with 1 Axes>"
      ]
     },
     "metadata": {
      "needs_background": "light"
     },
     "output_type": "display_data"
    }
   ],
   "source": [
    "modelEvolution(diccionario,50)"
   ]
  },
  {
   "cell_type": "markdown",
   "id": "6c6cd4df-50fc-4d9f-8673-936d35ec5c34",
   "metadata": {},
   "source": [
    "### usar scikit-learn para entrenar un modelo de regresion lineal\n",
    "\n",
    "#### Primera variable 1stFlrSF"
   ]
  },
  {
   "cell_type": "code",
   "execution_count": 165,
   "id": "69a5fc65-896d-4e02-953b-1246b1165b6b",
   "metadata": {},
   "outputs": [
    {
     "data": {
      "text/plain": [
       "0.33975415906079387"
      ]
     },
     "execution_count": 165,
     "metadata": {},
     "output_type": "execute_result"
    }
   ],
   "source": [
    "regr = linear_model.LinearRegression()\n",
    "regr.fit(datasetTraining[['1stFlrSF']], datasetTraining['SalePrice'])\n",
    "regr.score(datasetTraining[['1stFlrSF']], datasetTraining['SalePrice'])"
   ]
  },
  {
   "cell_type": "code",
   "execution_count": 166,
   "id": "0ed42dce-077b-4eae-bab2-07e6eabd3089",
   "metadata": {},
   "outputs": [
    {
     "data": {
      "text/plain": [
       "array([121.98790151])"
      ]
     },
     "execution_count": 166,
     "metadata": {},
     "output_type": "execute_result"
    }
   ],
   "source": [
    "regr.coef_"
   ]
  },
  {
   "cell_type": "code",
   "execution_count": 167,
   "id": "16c267bf-7170-42fe-9465-878f856aab89",
   "metadata": {},
   "outputs": [
    {
     "data": {
      "text/plain": [
       "38783.98233022369"
      ]
     },
     "execution_count": 167,
     "metadata": {},
     "output_type": "execute_result"
    }
   ],
   "source": [
    "regr.intercept_"
   ]
  },
  {
   "cell_type": "code",
   "execution_count": 168,
   "id": "867aed25-759c-4513-b55d-b53337bfdae9",
   "metadata": {},
   "outputs": [
    {
     "data": {
      "text/plain": [
       "array([178460.1295605 , 163455.61767463, 150036.9485084 , 161259.83544743,\n",
       "       168091.15793205, 168091.15793205, 117954.13041097, 240795.9472327 ,\n",
       "       155282.42827338, 135642.37613008, 133934.54550893, 309963.08738953,\n",
       "       141253.8195996 , 122223.70696386, 156380.31938698, 140643.88009204,\n",
       "       135032.43662253, 176020.37153028, 132958.64229684, 119295.99732759,\n",
       "       167237.24262147, 163455.61767463, 248725.16083093, 186877.29476477,\n",
       "       151988.75493258, 144181.52923586, 157112.24679605, 247383.2939143 ,\n",
       "       165651.39990183, 133202.61809986, 226767.33855892, 266535.39445156,\n",
       "       204931.50418842, 152964.65814467, 144181.52923586, 144303.51713738,\n",
       "       126615.27141826, 186633.31896175, 213958.60890025, 330579.04274491,\n",
       "       115636.36028225, 184437.53673455, 220545.95558185, 143693.57762982,\n",
       "       162479.71446254, 267145.33395911, 206517.34690807, 237014.32228586,\n",
       "       234452.57635412, 136618.27934217, 144181.52923586, 217862.2217486 ,\n",
       "       143449.6018268 , 123931.53758501, 178826.09326503, 217862.2217486 ,\n",
       "       147841.1662812 , 175654.40782574, 157356.22259907, 140277.91638751,\n",
       "       126127.31981221, 218350.17335465, 215056.50001385, 153818.57345525,\n",
       "       273244.72903467, 165651.39990183, 104169.4975402 , 219082.10076372,\n",
       "       181143.86339375, 150036.9485084 , 130518.88426661, 231524.86671785,\n",
       "       265193.52753493, 163943.56928067, 197490.24219624, 134422.49711497,\n",
       "       170408.92806076, 119052.02152457, 178338.14165899, 181021.87549223,\n",
       "       219082.10076372, 170530.91596227, 167603.20632601, 159308.02902325,\n",
       "       125029.42869861, 149427.00900084, 151744.77912956, 123443.58597897,\n",
       "       133934.54550893, 147109.23887213, 190292.95600708, 241649.86254328,\n",
       "       140277.91638751, 142351.7107132 , 165651.39990183, 240307.99562666,\n",
       "       157112.24679605, 220911.91928638, 291176.95055681, 248359.19712639,\n",
       "       187121.27056779, 219814.02817278, 254214.61639893, 115636.36028225,\n",
       "       113928.5296611 , 155648.39197791, 146865.26306911, 432560.92840824,\n",
       "       148451.10578876, 144425.50503889, 205663.43159749, 170530.91596227,\n",
       "       135032.43662253, 206883.3106126 , 190536.9318101 , 151988.75493258,\n",
       "       262997.74530773, 160405.92013685, 248237.20922488, 109049.01360065,\n",
       "       140277.91638751, 124541.47709257, 239698.0561191 , 165651.39990183,\n",
       "       175410.43202272, 261777.86629262, 227621.2538695 , 158332.12581116,\n",
       "       174922.48041668, 203467.64937029, 214446.56050629, 167725.19422752,\n",
       "       282759.78535254, 133934.54550893, 254214.61639893, 166627.30311392,\n",
       "       115636.36028225, 102827.63062358, 150036.9485084 , 263119.73320924,\n",
       "       151378.81542502, 142229.72281169, 196270.36318113, 183949.5851285 ,\n",
       "       211884.81457456, 142229.72281169, 164675.49668974, 188585.12538593,\n",
       "       155892.36778094, 203467.64937029, 142229.72281169, 245919.43909617,\n",
       "       142229.72281169, 235916.43117226, 179436.03277259, 217374.27014256,\n",
       "       119295.99732759, 171262.84337134, 127591.17463035, 250311.00355057,\n",
       "       142229.72281169, 134422.49711497,  97704.13876011, 258362.20505031,\n",
       "       246285.4028007 , 144181.52923586, 142229.72281169, 216398.36693047,\n",
       "       124419.48919106, 223229.6894151 , 150036.9485084 , 178826.09326503,\n",
       "       136862.25514519, 165163.44829578, 171750.79497739, 207493.25012016,\n",
       "       148817.06949329, 148817.06949329, 173580.61350005, 162601.70236405,\n",
       "       188707.11328744, 271170.93470898, 129908.94475906, 185169.46414361,\n",
       "       249579.07614151, 163455.61767463, 144181.52923586, 158332.12581116,\n",
       "       143449.6018268 , 163211.64187161, 248359.19712639, 214690.53630931,\n",
       "       186145.3673557 , 222253.78620301, 176874.28684085, 187609.22217384,\n",
       "       146377.31146307, 156868.27099302, 154428.5129628 , 240551.97142968,\n",
       "       236404.3827783 , 152232.7307356 , 197612.23009775, 158210.13790965,\n",
       "       212250.77827909, 173336.63769703, 136130.32773613, 147719.17837969,\n",
       "       166627.30311392, 161015.8596444 , 123931.53758501, 172482.72238645,\n",
       "       114904.43287319, 154672.48876582, 214690.53630931, 154428.5129628 ,\n",
       "       262753.76950471, 133080.63019835, 138326.10996333, 142107.73491017,\n",
       "       178094.16585597, 150524.90011444, 181143.86339375, 165895.37570485,\n",
       "       138326.10996333, 193098.67774184, 238844.14080852, 155770.37987942,\n",
       "       175166.4562197 , 115026.4207747 , 230548.96350576, 162479.71446254,\n",
       "       188097.17377988, 146011.34775853, 207371.26221864, 144181.52923586,\n",
       "       195294.45996904, 167481.2184245 , 177606.21424992, 147841.1662812 ,\n",
       "       246407.39070222, 222619.74990754, 147597.19047818, 135398.40032706,\n",
       "       177118.26264388, 210176.9839534 , 281173.9426329 , 147597.19047818,\n",
       "       173458.62559854, 125761.35610768, 284955.56757974, 145401.40825098,\n",
       "       201271.86714309, 128445.08994093, 123931.53758501, 139424.00107693,\n",
       "       175410.43202272, 179314.04487108, 115636.36028225, 176386.33523481,\n",
       "       169555.01275019, 161381.82334894, 185535.42784815, 240307.99562666,\n",
       "       216032.40322594, 154428.5129628 , 126615.27141826, 135886.35193311,\n",
       "       138326.10996333, 301789.89798828, 221033.90718789, 143449.6018268 ,\n",
       "       138082.13416031, 141253.8195996 , 359978.1270091 ,  97704.13876011,\n",
       "       144181.52923586, 297032.36982935, 160527.90803836, 153330.6218492 ,\n",
       "       123443.58597897, 132470.69069079, 140399.90428902, 263729.6727168 ,\n",
       "       125151.41660012, 230914.9272103 , 191512.83502219, 187975.18587837,\n",
       "       163943.56928067, 183705.60932548, 291664.90216286, 170286.94015925])"
      ]
     },
     "execution_count": 168,
     "metadata": {},
     "output_type": "execute_result"
    }
   ],
   "source": [
    "regr.predict(datasetTesting[['1stFlrSF']])"
   ]
  },
  {
   "cell_type": "markdown",
   "id": "3914fb95-0132-4493-94d8-9feb65ea8d85",
   "metadata": {},
   "source": [
    "### Segunda variable OverallQual"
   ]
  },
  {
   "cell_type": "code",
   "execution_count": 169,
   "id": "25343c86-1fc9-4b88-98ed-d365bf9914d8",
   "metadata": {},
   "outputs": [
    {
     "data": {
      "text/plain": [
       "0.6153023145036048"
      ]
     },
     "execution_count": 169,
     "metadata": {},
     "output_type": "execute_result"
    }
   ],
   "source": [
    "regr = linear_model.LinearRegression()\n",
    "regr.fit(datasetTraining[['OverallQual']], datasetTraining['SalePrice'])\n",
    "regr.score(datasetTraining[['OverallQual']], datasetTraining['SalePrice'])"
   ]
  },
  {
   "cell_type": "code",
   "execution_count": 170,
   "id": "89aab078-3b2b-4dc3-9875-d7b2e2b685b7",
   "metadata": {},
   "outputs": [
    {
     "data": {
      "text/plain": [
       "array([45522.20668336])"
      ]
     },
     "execution_count": 170,
     "metadata": {},
     "output_type": "execute_result"
    }
   ],
   "source": [
    "regr.coef_"
   ]
  },
  {
   "cell_type": "code",
   "execution_count": 171,
   "id": "fd2d2f8b-6da5-481a-96a6-9ac83c25dace",
   "metadata": {},
   "outputs": [
    {
     "data": {
      "text/plain": [
       "-97424.70836699574"
      ]
     },
     "execution_count": 171,
     "metadata": {},
     "output_type": "execute_result"
    }
   ],
   "source": [
    "regr.intercept_"
   ]
  },
  {
   "cell_type": "code",
   "execution_count": 172,
   "id": "a8c5741d-07a6-47cc-a61a-88625c21589b",
   "metadata": {},
   "outputs": [
    {
     "data": {
      "text/plain": [
       "array([266752.94509988, 221230.73841652, 130186.3250498 , 175708.53173316,\n",
       "       130186.3250498 , 130186.3250498 ,  84664.11836644, 266752.94509988,\n",
       "       130186.3250498 , 175708.53173316, 130186.3250498 , 221230.73841652,\n",
       "        39141.91168308, 175708.53173316, 130186.3250498 , 130186.3250498 ,\n",
       "       130186.3250498 , 130186.3250498 ,  84664.11836644, 175708.53173316,\n",
       "       130186.3250498 , 175708.53173316, 130186.3250498 , 130186.3250498 ,\n",
       "       175708.53173316,  84664.11836644, 175708.53173316, 266752.94509988,\n",
       "       130186.3250498 , 266752.94509988, 221230.73841652, 130186.3250498 ,\n",
       "       175708.53173316, 130186.3250498 , 130186.3250498 , 175708.53173316,\n",
       "       130186.3250498 , 175708.53173316, 221230.73841652, 357797.3584666 ,\n",
       "       130186.3250498 , 175708.53173316, 266752.94509988, 175708.53173316,\n",
       "       221230.73841652, 221230.73841652, 175708.53173316, 266752.94509988,\n",
       "       221230.73841652, 175708.53173316,  84664.11836644, 266752.94509988,\n",
       "        84664.11836644, 175708.53173316, 130186.3250498 , 221230.73841652,\n",
       "       130186.3250498 , 221230.73841652, 175708.53173316, 221230.73841652,\n",
       "       221230.73841652, 221230.73841652, 175708.53173316, 175708.53173316,\n",
       "       312275.15178324,  39141.91168308, 130186.3250498 , 175708.53173316,\n",
       "       175708.53173316, 175708.53173316, 175708.53173316, 266752.94509988,\n",
       "       312275.15178324, 130186.3250498 , 221230.73841652, 175708.53173316,\n",
       "       175708.53173316, 130186.3250498 , 130186.3250498 , 175708.53173316,\n",
       "       221230.73841652, 221230.73841652, 130186.3250498 , 130186.3250498 ,\n",
       "       221230.73841652,  84664.11836644, 175708.53173316, 130186.3250498 ,\n",
       "       175708.53173316, 175708.53173316, 221230.73841652,  84664.11836644,\n",
       "       266752.94509988, 175708.53173316, 130186.3250498 , 266752.94509988,\n",
       "       130186.3250498 , 175708.53173316, 312275.15178324, 266752.94509988,\n",
       "       175708.53173316, 130186.3250498 , 130186.3250498 ,  84664.11836644,\n",
       "       130186.3250498 , 175708.53173316, 130186.3250498 , 266752.94509988,\n",
       "       130186.3250498 , 221230.73841652, 221230.73841652, 175708.53173316,\n",
       "       130186.3250498 , 175708.53173316, 175708.53173316, 130186.3250498 ,\n",
       "       312275.15178324, 266752.94509988, 266752.94509988, 130186.3250498 ,\n",
       "       130186.3250498 , 221230.73841652, 130186.3250498 , 130186.3250498 ,\n",
       "       130186.3250498 , 312275.15178324, 175708.53173316, 130186.3250498 ,\n",
       "       175708.53173316, 175708.53173316, 175708.53173316, 221230.73841652,\n",
       "       266752.94509988, 130186.3250498 , 312275.15178324, 130186.3250498 ,\n",
       "        84664.11836644, 175708.53173316, 175708.53173316, 175708.53173316,\n",
       "       175708.53173316, 130186.3250498 , 175708.53173316, 221230.73841652,\n",
       "       266752.94509988, 175708.53173316, 130186.3250498 , 266752.94509988,\n",
       "        84664.11836644, 175708.53173316, 175708.53173316, 312275.15178324,\n",
       "        84664.11836644, 266752.94509988, 221230.73841652, 130186.3250498 ,\n",
       "       221230.73841652, 221230.73841652, 221230.73841652, 312275.15178324,\n",
       "       175708.53173316, 130186.3250498 , 175708.53173316, 130186.3250498 ,\n",
       "       130186.3250498 , 130186.3250498 , 175708.53173316, 266752.94509988,\n",
       "       175708.53173316, 175708.53173316, 221230.73841652, 130186.3250498 ,\n",
       "       175708.53173316, 130186.3250498 , 130186.3250498 , 130186.3250498 ,\n",
       "       130186.3250498 , 130186.3250498 , 130186.3250498 , 130186.3250498 ,\n",
       "        84664.11836644, 312275.15178324,  84664.11836644, 221230.73841652,\n",
       "       175708.53173316, 221230.73841652, 130186.3250498 , 175708.53173316,\n",
       "       130186.3250498 , 175708.53173316, 357797.3584666 , 175708.53173316,\n",
       "       221230.73841652, 221230.73841652,  84664.11836644, 221230.73841652,\n",
       "       130186.3250498 , 130186.3250498 , 130186.3250498 , 221230.73841652,\n",
       "       312275.15178324,  84664.11836644, 221230.73841652, 221230.73841652,\n",
       "       130186.3250498 , 175708.53173316, 175708.53173316, 130186.3250498 ,\n",
       "       130186.3250498 , 130186.3250498 , 175708.53173316, 130186.3250498 ,\n",
       "       221230.73841652, 130186.3250498 , 221230.73841652, 175708.53173316,\n",
       "       266752.94509988, 175708.53173316, 130186.3250498 , 221230.73841652,\n",
       "       266752.94509988, 175708.53173316, 130186.3250498 , 130186.3250498 ,\n",
       "       175708.53173316, 130186.3250498 , 175708.53173316, 175708.53173316,\n",
       "       175708.53173316, 221230.73841652, 130186.3250498 ,  39141.91168308,\n",
       "       175708.53173316, 221230.73841652,  84664.11836644,  84664.11836644,\n",
       "       130186.3250498 , 175708.53173316, 175708.53173316, 175708.53173316,\n",
       "       312275.15178324, 130186.3250498 , 130186.3250498 , 266752.94509988,\n",
       "       175708.53173316, 221230.73841652, 266752.94509988, 175708.53173316,\n",
       "        84664.11836644, 221230.73841652, 312275.15178324, 130186.3250498 ,\n",
       "       221230.73841652, 175708.53173316,  84664.11836644, 175708.53173316,\n",
       "       266752.94509988, 130186.3250498 , 130186.3250498 , 130186.3250498 ,\n",
       "       175708.53173316, 221230.73841652, 266752.94509988, 312275.15178324,\n",
       "       266752.94509988,  84664.11836644,  39141.91168308,  84664.11836644,\n",
       "        84664.11836644, 221230.73841652, 221230.73841652, 175708.53173316,\n",
       "       221230.73841652,  84664.11836644, 357797.3584666 , 175708.53173316,\n",
       "        39141.91168308, 175708.53173316, 221230.73841652, 130186.3250498 ,\n",
       "        39141.91168308, 130186.3250498 , 130186.3250498 , 175708.53173316,\n",
       "       175708.53173316, 175708.53173316, 175708.53173316, 221230.73841652,\n",
       "       357797.3584666 , 130186.3250498 , 175708.53173316, 130186.3250498 ])"
      ]
     },
     "execution_count": 172,
     "metadata": {},
     "output_type": "execute_result"
    }
   ],
   "source": [
    "regr.predict(datasetTesting[['OverallQual']])"
   ]
  },
  {
   "cell_type": "markdown",
   "id": "f625eba8-8f75-4975-9508-0ba50971fcd6",
   "metadata": {},
   "source": [
    "### Para cada variable independiente x elegida, crear una funcion que usando el modelo entrenado manualmente y el modelo de scikit-learn"
   ]
  },
  {
   "cell_type": "code",
   "execution_count": 173,
   "id": "0e9fb266-6bcf-4c59-b5e2-dcc6db7f630f",
   "metadata": {},
   "outputs": [],
   "source": [
    "def modelManuallyAndSklearn(independentVariable, target):\n",
    "    x=datasetTraining[independentVariable]\n",
    "    y=datasetTraining[target]\n",
    "    epochs=200\n",
    "    imprimir_error_cada=1\n",
    "    learning_rate=0.00000001\n",
    "    \n",
    "    ##modelo entrenado manualmente\n",
    "    unos=np.ones(np.shape(x)).reshape(-1,1)\n",
    "    x=x.to_numpy().reshape(-1,1)\n",
    "    a=np.hstack([x,unos])\n",
    "    b0=0\n",
    "    b1=0\n",
    "    errores=[]\n",
    "    iteracionErrores=[]\n",
    "    diccionario={}\n",
    "    for i in range(epochs):\n",
    "        betas=np.array([b1,b0]).reshape(-1,1)\n",
    "        yEstimado=np.matmul(a,betas)\n",
    "        gradienteB0=np.mean(yEstimado-y.to_numpy())\n",
    "        gradienteB1=np.mean((yEstimado-y.to_numpy())*x)\n",
    "\n",
    "        ##ACTUALIZACIÓN PARAMETROS DEL MODELO\n",
    "        b0=b0-learning_rate*gradienteB0\n",
    "        b1=b1-learning_rate*gradienteB1\n",
    "\n",
    "        ##CALCULO DEL GRADIENTE DEL ERROR\n",
    "        if((i%imprimir_error_cada)==0):\n",
    "            errores.append(np.mean((yEstimado-y.to_numpy())**2)*1/2)\n",
    "            iteracionErrores.append(i)\n",
    "        ##ALMACENAR EN UNA ESTRUCTURA DE DATOS EL MODELO RESULTANTE\n",
    "        diccionario[i]=[b0, b1]\n",
    "        \n",
    "    ##prediccion sklearn\n",
    "    regr = linear_model.LinearRegression()\n",
    "    regr.fit(datasetTraining[[independentVariable]], datasetTraining[target])\n",
    "    regr.score(datasetTraining[[independentVariable]], datasetTraining[target])\n",
    "    prediccionSkLearn=regr.predict(datasetTraining[[independentVariable]])\n",
    "    \n",
    "    ##prediccion manual\n",
    "    prediccionManual=(datasetTraining[independentVariable]*b1 + b0)\n",
    "    \n",
    "    ##creación dataset resultado real y resultados generados manualmente y resultados generados con sklearn\n",
    "    prediccionesFinales=pd.DataFrame({'Modelo Manual':prediccionManual, 'Modelo SKLearn':prediccionSkLearn, 'Resultado Real': datasetTraining[target] })\n",
    "    prediccionesFinales['Promedio Resultado']=(prediccionesFinales['Modelo Manual']+prediccionesFinales['Modelo SKLearn'])/2\n",
    "    print(\"Beta0: \", b0)\n",
    "    print(\"Beta1: \", b1)\n",
    "    return prediccionesFinales\n",
    "    #print(\"prediccionSkLearn\", prediccionSkLearn)\n",
    "    #print(\"prediccionManual\", prediccionManual)"
   ]
  },
  {
   "cell_type": "code",
   "execution_count": 174,
   "id": "63c35cf5-8f91-4226-b746-3af7b4915046",
   "metadata": {},
   "outputs": [
    {
     "name": "stdout",
     "output_type": "stream",
     "text": [
      "Beta0:  0.13838791972374406\n",
      "Beta1:  133.46585214064507\n",
      "Beta0:  0.362316058692295\n",
      "Beta1:  2.2173204511449827\n"
     ]
    }
   ],
   "source": [
    "prediccionesFinales1stFlrSF=modelManuallyAndSklearn('1stFlrSF', 'SalePrice')\n",
    "prediccionesFinalesOverallQual=modelManuallyAndSklearn('OverallQual', 'SalePrice')"
   ]
  },
  {
   "cell_type": "code",
   "execution_count": 175,
   "id": "cb0f634f-ab0a-4c73-8cdf-41df740be87d",
   "metadata": {},
   "outputs": [
    {
     "data": {
      "text/html": [
       "<div>\n",
       "<style scoped>\n",
       "    .dataframe tbody tr th:only-of-type {\n",
       "        vertical-align: middle;\n",
       "    }\n",
       "\n",
       "    .dataframe tbody tr th {\n",
       "        vertical-align: top;\n",
       "    }\n",
       "\n",
       "    .dataframe thead th {\n",
       "        text-align: right;\n",
       "    }\n",
       "</style>\n",
       "<table border=\"1\" class=\"dataframe\">\n",
       "  <thead>\n",
       "    <tr style=\"text-align: right;\">\n",
       "      <th></th>\n",
       "      <th>Modelo Manual</th>\n",
       "      <th>Modelo SKLearn</th>\n",
       "      <th>Resultado Real</th>\n",
       "      <th>Promedio Resultado</th>\n",
       "    </tr>\n",
       "  </thead>\n",
       "  <tbody>\n",
       "    <tr>\n",
       "      <th>268</th>\n",
       "      <td>103836.571353</td>\n",
       "      <td>133690.569706</td>\n",
       "      <td>120500.0</td>\n",
       "      <td>118763.570530</td>\n",
       "    </tr>\n",
       "    <tr>\n",
       "      <th>1372</th>\n",
       "      <td>147880.302560</td>\n",
       "      <td>173946.577205</td>\n",
       "      <td>274300.0</td>\n",
       "      <td>160913.439882</td>\n",
       "    </tr>\n",
       "    <tr>\n",
       "      <th>1174</th>\n",
       "      <td>156155.185392</td>\n",
       "      <td>181509.827098</td>\n",
       "      <td>239000.0</td>\n",
       "      <td>168832.506245</td>\n",
       "    </tr>\n",
       "    <tr>\n",
       "      <th>331</th>\n",
       "      <td>140940.078248</td>\n",
       "      <td>167603.206326</td>\n",
       "      <td>139000.0</td>\n",
       "      <td>154271.642287</td>\n",
       "    </tr>\n",
       "    <tr>\n",
       "      <th>949</th>\n",
       "      <td>184316.480194</td>\n",
       "      <td>207249.274317</td>\n",
       "      <td>197500.0</td>\n",
       "      <td>195782.877256</td>\n",
       "    </tr>\n",
       "    <tr>\n",
       "      <th>...</th>\n",
       "      <td>...</td>\n",
       "      <td>...</td>\n",
       "      <td>...</td>\n",
       "      <td>...</td>\n",
       "    </tr>\n",
       "    <tr>\n",
       "      <th>647</th>\n",
       "      <td>146011.780630</td>\n",
       "      <td>172238.746583</td>\n",
       "      <td>155000.0</td>\n",
       "      <td>159125.263607</td>\n",
       "    </tr>\n",
       "    <tr>\n",
       "      <th>58</th>\n",
       "      <td>190322.443540</td>\n",
       "      <td>212738.729885</td>\n",
       "      <td>438780.0</td>\n",
       "      <td>201530.586713</td>\n",
       "    </tr>\n",
       "    <tr>\n",
       "      <th>252</th>\n",
       "      <td>106505.888396</td>\n",
       "      <td>136130.327736</td>\n",
       "      <td>173000.0</td>\n",
       "      <td>121318.108066</td>\n",
       "    </tr>\n",
       "    <tr>\n",
       "      <th>235</th>\n",
       "      <td>64464.144972</td>\n",
       "      <td>97704.138760</td>\n",
       "      <td>89500.0</td>\n",
       "      <td>81084.141866</td>\n",
       "    </tr>\n",
       "    <tr>\n",
       "      <th>31</th>\n",
       "      <td>163896.204817</td>\n",
       "      <td>188585.125386</td>\n",
       "      <td>149350.0</td>\n",
       "      <td>176240.665101</td>\n",
       "    </tr>\n",
       "  </tbody>\n",
       "</table>\n",
       "<p>1168 rows × 4 columns</p>\n",
       "</div>"
      ],
      "text/plain": [
       "      Modelo Manual  Modelo SKLearn  Resultado Real  Promedio Resultado\n",
       "268   103836.571353   133690.569706        120500.0       118763.570530\n",
       "1372  147880.302560   173946.577205        274300.0       160913.439882\n",
       "1174  156155.185392   181509.827098        239000.0       168832.506245\n",
       "331   140940.078248   167603.206326        139000.0       154271.642287\n",
       "949   184316.480194   207249.274317        197500.0       195782.877256\n",
       "...             ...             ...             ...                 ...\n",
       "647   146011.780630   172238.746583        155000.0       159125.263607\n",
       "58    190322.443540   212738.729885        438780.0       201530.586713\n",
       "252   106505.888396   136130.327736        173000.0       121318.108066\n",
       "235    64464.144972    97704.138760         89500.0        81084.141866\n",
       "31    163896.204817   188585.125386        149350.0       176240.665101\n",
       "\n",
       "[1168 rows x 4 columns]"
      ]
     },
     "execution_count": 175,
     "metadata": {},
     "output_type": "execute_result"
    }
   ],
   "source": [
    "prediccionesFinales1stFlrSF"
   ]
  },
  {
   "cell_type": "code",
   "execution_count": 176,
   "id": "fa671701-68b1-4e20-9423-0a4635d74d98",
   "metadata": {},
   "outputs": [
    {
     "data": {
      "text/html": [
       "<div>\n",
       "<style scoped>\n",
       "    .dataframe tbody tr th:only-of-type {\n",
       "        vertical-align: middle;\n",
       "    }\n",
       "\n",
       "    .dataframe tbody tr th {\n",
       "        vertical-align: top;\n",
       "    }\n",
       "\n",
       "    .dataframe thead th {\n",
       "        text-align: right;\n",
       "    }\n",
       "</style>\n",
       "<table border=\"1\" class=\"dataframe\">\n",
       "  <thead>\n",
       "    <tr style=\"text-align: right;\">\n",
       "      <th></th>\n",
       "      <th>Modelo Manual</th>\n",
       "      <th>Modelo SKLearn</th>\n",
       "      <th>Resultado Real</th>\n",
       "      <th>Promedio Resultado</th>\n",
       "    </tr>\n",
       "  </thead>\n",
       "  <tbody>\n",
       "    <tr>\n",
       "      <th>268</th>\n",
       "      <td>11.448918</td>\n",
       "      <td>130186.325050</td>\n",
       "      <td>120500.0</td>\n",
       "      <td>65098.886984</td>\n",
       "    </tr>\n",
       "    <tr>\n",
       "      <th>1372</th>\n",
       "      <td>15.883559</td>\n",
       "      <td>221230.738417</td>\n",
       "      <td>274300.0</td>\n",
       "      <td>110623.310988</td>\n",
       "    </tr>\n",
       "    <tr>\n",
       "      <th>1174</th>\n",
       "      <td>13.666239</td>\n",
       "      <td>175708.531733</td>\n",
       "      <td>239000.0</td>\n",
       "      <td>87861.098986</td>\n",
       "    </tr>\n",
       "    <tr>\n",
       "      <th>331</th>\n",
       "      <td>11.448918</td>\n",
       "      <td>130186.325050</td>\n",
       "      <td>139000.0</td>\n",
       "      <td>65098.886984</td>\n",
       "    </tr>\n",
       "    <tr>\n",
       "      <th>949</th>\n",
       "      <td>13.666239</td>\n",
       "      <td>175708.531733</td>\n",
       "      <td>197500.0</td>\n",
       "      <td>87861.098986</td>\n",
       "    </tr>\n",
       "    <tr>\n",
       "      <th>...</th>\n",
       "      <td>...</td>\n",
       "      <td>...</td>\n",
       "      <td>...</td>\n",
       "      <td>...</td>\n",
       "    </tr>\n",
       "    <tr>\n",
       "      <th>647</th>\n",
       "      <td>13.666239</td>\n",
       "      <td>175708.531733</td>\n",
       "      <td>155000.0</td>\n",
       "      <td>87861.098986</td>\n",
       "    </tr>\n",
       "    <tr>\n",
       "      <th>58</th>\n",
       "      <td>22.535521</td>\n",
       "      <td>357797.358467</td>\n",
       "      <td>438780.0</td>\n",
       "      <td>178909.946994</td>\n",
       "    </tr>\n",
       "    <tr>\n",
       "      <th>252</th>\n",
       "      <td>13.666239</td>\n",
       "      <td>175708.531733</td>\n",
       "      <td>173000.0</td>\n",
       "      <td>87861.098986</td>\n",
       "    </tr>\n",
       "    <tr>\n",
       "      <th>235</th>\n",
       "      <td>13.666239</td>\n",
       "      <td>175708.531733</td>\n",
       "      <td>89500.0</td>\n",
       "      <td>87861.098986</td>\n",
       "    </tr>\n",
       "    <tr>\n",
       "      <th>31</th>\n",
       "      <td>11.448918</td>\n",
       "      <td>130186.325050</td>\n",
       "      <td>149350.0</td>\n",
       "      <td>65098.886984</td>\n",
       "    </tr>\n",
       "  </tbody>\n",
       "</table>\n",
       "<p>1168 rows × 4 columns</p>\n",
       "</div>"
      ],
      "text/plain": [
       "      Modelo Manual  Modelo SKLearn  Resultado Real  Promedio Resultado\n",
       "268       11.448918   130186.325050        120500.0        65098.886984\n",
       "1372      15.883559   221230.738417        274300.0       110623.310988\n",
       "1174      13.666239   175708.531733        239000.0        87861.098986\n",
       "331       11.448918   130186.325050        139000.0        65098.886984\n",
       "949       13.666239   175708.531733        197500.0        87861.098986\n",
       "...             ...             ...             ...                 ...\n",
       "647       13.666239   175708.531733        155000.0        87861.098986\n",
       "58        22.535521   357797.358467        438780.0       178909.946994\n",
       "252       13.666239   175708.531733        173000.0        87861.098986\n",
       "235       13.666239   175708.531733         89500.0        87861.098986\n",
       "31        11.448918   130186.325050        149350.0        65098.886984\n",
       "\n",
       "[1168 rows x 4 columns]"
      ]
     },
     "execution_count": 176,
     "metadata": {},
     "output_type": "execute_result"
    }
   ],
   "source": [
    "prediccionesFinalesOverallQual"
   ]
  },
  {
   "cell_type": "markdown",
   "id": "470b6781-cd5b-4512-abbd-c2b5847b80dc",
   "metadata": {},
   "source": [
    "### Usando el 20 % de los datos de validaci´on, aplicamos los modelos predictivos para\n",
    "### estimar la variable dependiente y usando los valores reales de y calculamos el error\n",
    "### de cada modelo. Para cada variable independiente x elegida:"
   ]
  },
  {
   "cell_type": "code",
   "execution_count": 179,
   "id": "c309105a-f00f-4e84-8c95-d70b42179f52",
   "metadata": {},
   "outputs": [],
   "source": [
    "def resultTesting(independentVariable, target):\n",
    "    x=datasetTraining[independentVariable]\n",
    "    y=datasetTraining[target]\n",
    "    epochs=200\n",
    "    imprimir_error_cada=1\n",
    "    learning_rate=0.00000001\n",
    "    \n",
    "    ##modelo entrenado manualmente\n",
    "    unos=np.ones(np.shape(x)).reshape(-1,1)\n",
    "    x=x.to_numpy().reshape(-1,1)\n",
    "    a=np.hstack([x,unos])\n",
    "    b0=0\n",
    "    b1=0\n",
    "    errores=[]\n",
    "    iteracionErrores=[]\n",
    "    diccionario={}\n",
    "    for i in range(epochs):\n",
    "        betas=np.array([b1,b0]).reshape(-1,1)\n",
    "        yEstimado=np.matmul(a,betas)\n",
    "        gradienteB0=np.mean(yEstimado-y.to_numpy())\n",
    "        gradienteB1=np.mean((yEstimado-y.to_numpy())*x)\n",
    "\n",
    "        ##ACTUALIZACIÓN PARAMETROS DEL MODELO\n",
    "        b0=b0-learning_rate*gradienteB0\n",
    "        b1=b1-learning_rate*gradienteB1\n",
    "\n",
    "        ##CALCULO DEL GRADIENTE DEL ERROR\n",
    "        if((i%imprimir_error_cada)==0):\n",
    "            errores.append(np.mean((yEstimado-y.to_numpy())**2)*1/2)\n",
    "            iteracionErrores.append(i)\n",
    "        ##ALMACENAR EN UNA ESTRUCTURA DE DATOS EL MODELO RESULTANTE\n",
    "        diccionario[i]=[b0, b1]\n",
    "    \n",
    "    ##prediccion manual\n",
    "    prediccionManual=(datasetTesting[independentVariable]*b1 + b0)\n",
    "    \n",
    "    ##creación dataset resultado real y resultados generados manualmente y resultados generados con sklearn\n",
    "    prediccionesFinalesTesting=pd.DataFrame({'Modelo Manual':prediccionManual, 'Resultado Real': datasetTesting[target] })\n",
    "    prediccionesFinalesTesting['Error']=np.mean((prediccionesFinalesTesting['Modelo Manual']-prediccionesFinalesTesting['Resultado Real'])**2)*1/2\n",
    "    prediccionesFinalesTesting['Error2']=(prediccionesFinalesTesting['Modelo Manual']-prediccionesFinalesTesting['Resultado Real'])\n",
    "    print(\"Beta0: \", b0)\n",
    "    print(\"Beta1: \", b1)\n",
    "    return prediccionesFinalesTesting"
   ]
  },
  {
   "cell_type": "code",
   "execution_count": 180,
   "id": "132f5b1c-bd7f-4efa-ba31-8d7c99333387",
   "metadata": {},
   "outputs": [
    {
     "name": "stdout",
     "output_type": "stream",
     "text": [
      "Beta0:  0.13838791972374406\n",
      "Beta1:  133.46585214064507\n",
      "Beta0:  0.362316058692295\n",
      "Beta1:  2.2173204511449827\n"
     ]
    }
   ],
   "source": [
    "prediccionesFinalesTesting1stFlrSF=resultTesting('1stFlrSF', 'SalePrice')\n",
    "prediccionesFinalesTestingOverallQual=resultTesting('OverallQual', 'SalePrice')"
   ]
  },
  {
   "cell_type": "code",
   "execution_count": 181,
   "id": "8a033903-efb8-4421-8f72-94983fcd89d5",
   "metadata": {},
   "outputs": [
    {
     "data": {
      "text/html": [
       "<div>\n",
       "<style scoped>\n",
       "    .dataframe tbody tr th:only-of-type {\n",
       "        vertical-align: middle;\n",
       "    }\n",
       "\n",
       "    .dataframe tbody tr th {\n",
       "        vertical-align: top;\n",
       "    }\n",
       "\n",
       "    .dataframe thead th {\n",
       "        text-align: right;\n",
       "    }\n",
       "</style>\n",
       "<table border=\"1\" class=\"dataframe\">\n",
       "  <thead>\n",
       "    <tr style=\"text-align: right;\">\n",
       "      <th></th>\n",
       "      <th>Modelo Manual</th>\n",
       "      <th>Resultado Real</th>\n",
       "      <th>Error</th>\n",
       "      <th>Error2</th>\n",
       "    </tr>\n",
       "  </thead>\n",
       "  <tbody>\n",
       "    <tr>\n",
       "      <th>4</th>\n",
       "      <td>152818.539089</td>\n",
       "      <td>250000.0</td>\n",
       "      <td>1.882230e+09</td>\n",
       "      <td>-97181.460911</td>\n",
       "    </tr>\n",
       "    <tr>\n",
       "      <th>8</th>\n",
       "      <td>136402.239276</td>\n",
       "      <td>129900.0</td>\n",
       "      <td>1.882230e+09</td>\n",
       "      <td>6502.239276</td>\n",
       "    </tr>\n",
       "    <tr>\n",
       "      <th>12</th>\n",
       "      <td>121720.995540</td>\n",
       "      <td>144000.0</td>\n",
       "      <td>1.882230e+09</td>\n",
       "      <td>-22279.004460</td>\n",
       "    </tr>\n",
       "    <tr>\n",
       "      <th>16</th>\n",
       "      <td>133999.853937</td>\n",
       "      <td>149000.0</td>\n",
       "      <td>1.882230e+09</td>\n",
       "      <td>-15000.146063</td>\n",
       "    </tr>\n",
       "    <tr>\n",
       "      <th>23</th>\n",
       "      <td>141473.941657</td>\n",
       "      <td>129900.0</td>\n",
       "      <td>1.882230e+09</td>\n",
       "      <td>11573.941657</td>\n",
       "    </tr>\n",
       "    <tr>\n",
       "      <th>...</th>\n",
       "      <td>...</td>\n",
       "      <td>...</td>\n",
       "      <td>...</td>\n",
       "      <td>...</td>\n",
       "    </tr>\n",
       "    <tr>\n",
       "      <th>1426</th>\n",
       "      <td>163228.875556</td>\n",
       "      <td>271000.0</td>\n",
       "      <td>1.882230e+09</td>\n",
       "      <td>-107771.124444</td>\n",
       "    </tr>\n",
       "    <tr>\n",
       "      <th>1442</th>\n",
       "      <td>136936.102684</td>\n",
       "      <td>310000.0</td>\n",
       "      <td>1.882230e+09</td>\n",
       "      <td>-173063.897316</td>\n",
       "    </tr>\n",
       "    <tr>\n",
       "      <th>1446</th>\n",
       "      <td>158557.570731</td>\n",
       "      <td>157900.0</td>\n",
       "      <td>1.882230e+09</td>\n",
       "      <td>657.570731</td>\n",
       "    </tr>\n",
       "    <tr>\n",
       "      <th>1456</th>\n",
       "      <td>276674.849875</td>\n",
       "      <td>210000.0</td>\n",
       "      <td>1.882230e+09</td>\n",
       "      <td>66674.849875</td>\n",
       "    </tr>\n",
       "    <tr>\n",
       "      <th>1458</th>\n",
       "      <td>143876.326996</td>\n",
       "      <td>142125.0</td>\n",
       "      <td>1.882230e+09</td>\n",
       "      <td>1751.326996</td>\n",
       "    </tr>\n",
       "  </tbody>\n",
       "</table>\n",
       "<p>292 rows × 4 columns</p>\n",
       "</div>"
      ],
      "text/plain": [
       "      Modelo Manual  Resultado Real         Error         Error2\n",
       "4     152818.539089        250000.0  1.882230e+09  -97181.460911\n",
       "8     136402.239276        129900.0  1.882230e+09    6502.239276\n",
       "12    121720.995540        144000.0  1.882230e+09  -22279.004460\n",
       "16    133999.853937        149000.0  1.882230e+09  -15000.146063\n",
       "23    141473.941657        129900.0  1.882230e+09   11573.941657\n",
       "...             ...             ...           ...            ...\n",
       "1426  163228.875556        271000.0  1.882230e+09 -107771.124444\n",
       "1442  136936.102684        310000.0  1.882230e+09 -173063.897316\n",
       "1446  158557.570731        157900.0  1.882230e+09     657.570731\n",
       "1456  276674.849875        210000.0  1.882230e+09   66674.849875\n",
       "1458  143876.326996        142125.0  1.882230e+09    1751.326996\n",
       "\n",
       "[292 rows x 4 columns]"
      ]
     },
     "execution_count": 181,
     "metadata": {},
     "output_type": "execute_result"
    }
   ],
   "source": [
    "prediccionesFinalesTesting1stFlrSF"
   ]
  },
  {
   "cell_type": "code",
   "execution_count": 182,
   "id": "b3817993-9b9b-423c-8a9a-6db58988338c",
   "metadata": {},
   "outputs": [
    {
     "data": {
      "text/html": [
       "<div>\n",
       "<style scoped>\n",
       "    .dataframe tbody tr th:only-of-type {\n",
       "        vertical-align: middle;\n",
       "    }\n",
       "\n",
       "    .dataframe tbody tr th {\n",
       "        vertical-align: top;\n",
       "    }\n",
       "\n",
       "    .dataframe thead th {\n",
       "        text-align: right;\n",
       "    }\n",
       "</style>\n",
       "<table border=\"1\" class=\"dataframe\">\n",
       "  <thead>\n",
       "    <tr style=\"text-align: right;\">\n",
       "      <th></th>\n",
       "      <th>Modelo Manual</th>\n",
       "      <th>Resultado Real</th>\n",
       "      <th>Error</th>\n",
       "      <th>Error2</th>\n",
       "    </tr>\n",
       "  </thead>\n",
       "  <tbody>\n",
       "    <tr>\n",
       "      <th>4</th>\n",
       "      <td>18.100880</td>\n",
       "      <td>250000.0</td>\n",
       "      <td>1.914439e+10</td>\n",
       "      <td>-249981.899120</td>\n",
       "    </tr>\n",
       "    <tr>\n",
       "      <th>8</th>\n",
       "      <td>15.883559</td>\n",
       "      <td>129900.0</td>\n",
       "      <td>1.914439e+10</td>\n",
       "      <td>-129884.116441</td>\n",
       "    </tr>\n",
       "    <tr>\n",
       "      <th>12</th>\n",
       "      <td>11.448918</td>\n",
       "      <td>144000.0</td>\n",
       "      <td>1.914439e+10</td>\n",
       "      <td>-143988.551082</td>\n",
       "    </tr>\n",
       "    <tr>\n",
       "      <th>16</th>\n",
       "      <td>13.666239</td>\n",
       "      <td>149000.0</td>\n",
       "      <td>1.914439e+10</td>\n",
       "      <td>-148986.333761</td>\n",
       "    </tr>\n",
       "    <tr>\n",
       "      <th>23</th>\n",
       "      <td>11.448918</td>\n",
       "      <td>129900.0</td>\n",
       "      <td>1.914439e+10</td>\n",
       "      <td>-129888.551082</td>\n",
       "    </tr>\n",
       "    <tr>\n",
       "      <th>...</th>\n",
       "      <td>...</td>\n",
       "      <td>...</td>\n",
       "      <td>...</td>\n",
       "      <td>...</td>\n",
       "    </tr>\n",
       "    <tr>\n",
       "      <th>1426</th>\n",
       "      <td>15.883559</td>\n",
       "      <td>271000.0</td>\n",
       "      <td>1.914439e+10</td>\n",
       "      <td>-270984.116441</td>\n",
       "    </tr>\n",
       "    <tr>\n",
       "      <th>1442</th>\n",
       "      <td>22.535521</td>\n",
       "      <td>310000.0</td>\n",
       "      <td>1.914439e+10</td>\n",
       "      <td>-309977.464479</td>\n",
       "    </tr>\n",
       "    <tr>\n",
       "      <th>1446</th>\n",
       "      <td>11.448918</td>\n",
       "      <td>157900.0</td>\n",
       "      <td>1.914439e+10</td>\n",
       "      <td>-157888.551082</td>\n",
       "    </tr>\n",
       "    <tr>\n",
       "      <th>1456</th>\n",
       "      <td>13.666239</td>\n",
       "      <td>210000.0</td>\n",
       "      <td>1.914439e+10</td>\n",
       "      <td>-209986.333761</td>\n",
       "    </tr>\n",
       "    <tr>\n",
       "      <th>1458</th>\n",
       "      <td>11.448918</td>\n",
       "      <td>142125.0</td>\n",
       "      <td>1.914439e+10</td>\n",
       "      <td>-142113.551082</td>\n",
       "    </tr>\n",
       "  </tbody>\n",
       "</table>\n",
       "<p>292 rows × 4 columns</p>\n",
       "</div>"
      ],
      "text/plain": [
       "      Modelo Manual  Resultado Real         Error         Error2\n",
       "4         18.100880        250000.0  1.914439e+10 -249981.899120\n",
       "8         15.883559        129900.0  1.914439e+10 -129884.116441\n",
       "12        11.448918        144000.0  1.914439e+10 -143988.551082\n",
       "16        13.666239        149000.0  1.914439e+10 -148986.333761\n",
       "23        11.448918        129900.0  1.914439e+10 -129888.551082\n",
       "...             ...             ...           ...            ...\n",
       "1426      15.883559        271000.0  1.914439e+10 -270984.116441\n",
       "1442      22.535521        310000.0  1.914439e+10 -309977.464479\n",
       "1446      11.448918        157900.0  1.914439e+10 -157888.551082\n",
       "1456      13.666239        210000.0  1.914439e+10 -209986.333761\n",
       "1458      11.448918        142125.0  1.914439e+10 -142113.551082\n",
       "\n",
       "[292 rows x 4 columns]"
      ]
     },
     "execution_count": 182,
     "metadata": {},
     "output_type": "execute_result"
    }
   ],
   "source": [
    "prediccionesFinalesTestingOverallQual"
   ]
  },
  {
   "cell_type": "code",
   "execution_count": 184,
   "id": "078280ad-5e93-4402-a6db-62436f7e1979",
   "metadata": {},
   "outputs": [
    {
     "data": {
      "image/png": "[encoded data removed]",
      "text/plain": [
       "<Figure size 432x288 with 1 Axes>"
      ]
     },
     "metadata": {
      "needs_background": "light"
     },
     "output_type": "display_data"
    },
    {
     "data": {
      "image/png": "[encoded data removed]",
      "text/plain": [
       "<Figure size 432x288 with 1 Axes>"
      ]
     },
     "metadata": {
      "needs_background": "light"
     },
     "output_type": "display_data"
    }
   ],
   "source": [
    "plt.plot(prediccionesFinalesTesting1stFlrSF['Error'])\n",
    "plt.show()\n",
    "plt.plot(prediccionesFinalesTesting1stFlrSF['Error2'])\n",
    "plt.show()\n"
   ]
  },
  {
   "cell_type": "code",
   "execution_count": 139,
   "id": "05039bc4-ba1b-49ef-b0a3-9d07ee660cac",
   "metadata": {},
   "outputs": [
    {
     "data": {
      "text/plain": [
       "[<matplotlib.lines.Line2D at 0x2dec8ea94c0>]"
      ]
     },
     "execution_count": 139,
     "metadata": {},
     "output_type": "execute_result"
    },
    {
     "data": {
      "image/png": "[encoded data removed]",
      "text/plain": [
       "<Figure size 432x288 with 1 Axes>"
      ]
     },
     "metadata": {
      "needs_background": "light"
     },
     "output_type": "display_data"
    }
   ],
   "source": [
    "plt.plot(prediccionesFinalesTestingOverallQual['Error'])"
   ]
  },
  {
   "cell_type": "code",
   "execution_count": null,
   "id": "9a84c2c1-54f2-482d-ac28-2c7616aa99af",
   "metadata": {},
   "outputs": [],
   "source": []
  }
 ],
 "metadata": {
  "kernelspec": {
   "display_name": "Python 3 (ipykernel)",
   "language": "python",
   "name": "python3"
  },
  "language_info": {
   "codemirror_mode": {
    "name": "ipython",
    "version": 3
   },
   "file_extension": ".py",
   "mimetype": "text/x-python",
   "name": "python",
   "nbconvert_exporter": "python",
   "pygments_lexer": "ipython3",
   "version": "3.9.7"
  }
 },
 "nbformat": 4,
 "nbformat_minor": 5
}
